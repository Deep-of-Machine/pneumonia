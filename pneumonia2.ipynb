{
  "nbformat": 4,
  "nbformat_minor": 0,
  "metadata": {
    "kernelspec": {
      "display_name": "Python 3",
      "language": "python",
      "name": "python3"
    },
    "language_info": {
      "codemirror_mode": {
        "name": "ipython",
        "version": 3
      },
      "file_extension": ".py",
      "mimetype": "text/x-python",
      "name": "python",
      "nbconvert_exporter": "python",
      "pygments_lexer": "ipython3",
      "version": "3.7.7"
    },
    "colab": {
      "name": "pneumonia2.ipynb",
      "provenance": [],
      "collapsed_sections": [],
      "include_colab_link": true
    },
    "accelerator": "GPU"
  },
  "cells": [
    {
      "cell_type": "markdown",
      "metadata": {
        "id": "view-in-github",
        "colab_type": "text"
      },
      "source": [
        "<a href=\"https://colab.research.google.com/github/Deep-of-Machine/pneumonia/blob/main/pneumonia2.ipynb\" target=\"_parent\"><img src=\"https://colab.research.google.com/assets/colab-badge.svg\" alt=\"Open In Colab\"/></a>"
      ]
    },
    {
      "cell_type": "code",
      "metadata": {
        "colab": {
          "base_uri": "https://localhost:8080/"
        },
        "id": "g7LU2OkF4n-n",
        "outputId": "3e0dffaf-3934-4092-9022-f077a1637f46"
      },
      "source": [
        "from google.colab import drive\n",
        "drive.mount('/content/drive')"
      ],
      "execution_count": null,
      "outputs": [
        {
          "output_type": "stream",
          "text": [
            "Mounted at /content/drive\n"
          ],
          "name": "stdout"
        }
      ]
    },
    {
      "cell_type": "code",
      "metadata": {
        "id": "qAqEwaEG3n91"
      },
      "source": [
        "import tensorflow as tf\n",
        "import tensorflow.keras.backend as K\n",
        "from tensorflow.keras import regularizers\n",
        "from tensorflow.keras.applications.inception_v3 import InceptionV3\n",
        "from tensorflow.keras.models import Sequential, Model\n",
        "from tensorflow.keras.layers import Dense, Dropout, Activation, Flatten\n",
        "from tensorflow.keras.layers import Convolution2D, MaxPooling2D, ZeroPadding2D, GlobalAveragePooling2D, AveragePooling2D\n",
        "from tensorflow.keras.preprocessing.image import ImageDataGenerator\n",
        "from tensorflow.keras.callbacks import ModelCheckpoint, CSVLogger\n",
        "from tensorflow.keras.optimizers import SGD\n",
        "from tensorflow.keras.regularizers import l2\n",
        "from tensorflow import keras\n",
        "import numpy as np"
      ],
      "execution_count": null,
      "outputs": []
    },
    {
      "cell_type": "code",
      "metadata": {
        "id": "yoE_6ruE3n9-"
      },
      "source": [
        "train_datagen = ImageDataGenerator(\n",
        "    shear_range=0.2,\n",
        "    zoom_range=0.2,\n",
        "    horizontal_flip=True)"
      ],
      "execution_count": null,
      "outputs": []
    },
    {
      "cell_type": "code",
      "metadata": {
        "id": "BinlYnwS3n9_"
      },
      "source": [
        "test_datagen = ImageDataGenerator()"
      ],
      "execution_count": null,
      "outputs": []
    },
    {
      "cell_type": "code",
      "metadata": {
        "id": "cqVWkK5X6hpY"
      },
      "source": [
        "!unzip -qq /content/drive/MyDrive/폐렴/chest_xray.zip"
      ],
      "execution_count": null,
      "outputs": []
    },
    {
      "cell_type": "code",
      "metadata": {
        "id": "l43uUyP13n-A"
      },
      "source": [
        "train_data_dir = '/content/train'\n",
        "test_data_dir = '/content/test'\n",
        "validation_data_dir = '/content/val'"
      ],
      "execution_count": null,
      "outputs": []
    },
    {
      "cell_type": "code",
      "metadata": {
        "colab": {
          "base_uri": "https://localhost:8080/"
        },
        "id": "dl6zhN7l3n-E",
        "outputId": "29ba46af-5303-48c5-91d2-19f82c118c92"
      },
      "source": [
        "train_generator = train_datagen.flow_from_directory(\n",
        "    train_data_dir,\n",
        "    target_size=(299, 299),\n",
        "    batch_size=16,\n",
        "    class_mode='categorical')"
      ],
      "execution_count": null,
      "outputs": [
        {
          "output_type": "stream",
          "text": [
            "Found 5216 images belonging to 2 classes.\n"
          ],
          "name": "stdout"
        }
      ]
    },
    {
      "cell_type": "code",
      "metadata": {
        "colab": {
          "base_uri": "https://localhost:8080/"
        },
        "id": "YcL2wvw33n-E",
        "outputId": "53862b64-0b24-43a8-8c5d-3661eb2eb75f"
      },
      "source": [
        "validation_generator = test_datagen.flow_from_directory(\n",
        "    validation_data_dir,\n",
        "    target_size=(299, 299),\n",
        "    batch_size=16,\n",
        "    class_mode='categorical')"
      ],
      "execution_count": null,
      "outputs": [
        {
          "output_type": "stream",
          "text": [
            "Found 16 images belonging to 2 classes.\n"
          ],
          "name": "stdout"
        }
      ]
    },
    {
      "cell_type": "code",
      "metadata": {
        "colab": {
          "base_uri": "https://localhost:8080/"
        },
        "id": "EDU_rZ6E3n-F",
        "outputId": "2a9612c2-7908-41ed-e8b3-65ad6f9a3612"
      },
      "source": [
        "inception = InceptionV3(weights='imagenet', include_top=False)\n",
        "x = inception.output\n",
        "x = GlobalAveragePooling2D()(x)\n",
        "x = Dense(128,activation='relu')(x)\n",
        "x = Dropout(0.2)(x)"
      ],
      "execution_count": null,
      "outputs": [
        {
          "output_type": "stream",
          "text": [
            "Downloading data from https://storage.googleapis.com/tensorflow/keras-applications/inception_v3/inception_v3_weights_tf_dim_ordering_tf_kernels_notop.h5\n",
            "87916544/87910968 [==============================] - 2s 0us/step\n"
          ],
          "name": "stdout"
        }
      ]
    },
    {
      "cell_type": "code",
      "metadata": {
        "id": "KJvH9h103n-F"
      },
      "source": [
        "predictions = Dense(2,kernel_regularizer=regularizers.l2(0.005), activation='softmax')(x)"
      ],
      "execution_count": null,
      "outputs": []
    },
    {
      "cell_type": "code",
      "metadata": {
        "id": "zzwi8Ng33n-G"
      },
      "source": [
        "model = Model(inputs=inception.input, outputs=predictions)\n",
        "model.compile(optimizer=SGD(lr=0.0001, momentum=0.9), loss='categorical_crossentropy', metrics=['accuracy'])\n",
        "checkpointer = ModelCheckpoint(filepath='best_model_class.hdf5', verbose=1, save_best_only=True)\n",
        "csv_logger = CSVLogger('history.log')"
      ],
      "execution_count": null,
      "outputs": []
    },
    {
      "cell_type": "code",
      "metadata": {
        "id": "iheI3N9S3n-G"
      },
      "source": [
        "batch_size = 16"
      ],
      "execution_count": null,
      "outputs": []
    },
    {
      "cell_type": "code",
      "metadata": {
        "colab": {
          "base_uri": "https://localhost:8080/"
        },
        "id": "mosHAaNZ3n-G",
        "outputId": "b7e2b420-13ac-44e3-8a10-3cf1316fe8d2"
      },
      "source": [
        "history = model.fit_generator(train_generator,\n",
        "                    steps_per_epoch = 5219 // batch_size,\n",
        "                    validation_data=validation_generator,\n",
        "                    validation_steps=16// batch_size,\n",
        "                    epochs=10 ,\n",
        "                    verbose=1,\n",
        "                    callbacks=[csv_logger, checkpointer])"
      ],
      "execution_count": null,
      "outputs": [
        {
          "output_type": "stream",
          "text": [
            "Epoch 1/10\n",
            "326/326 [==============================] - ETA: 0s - loss: 0.1024 - accuracy: 0.9711\n",
            "Epoch 00001: val_loss improved from 0.25174 to 0.20579, saving model to best_model_class.hdf5\n",
            "326/326 [==============================] - 143s 439ms/step - loss: 0.1024 - accuracy: 0.9711 - val_loss: 0.2058 - val_accuracy: 0.9375\n",
            "Epoch 2/10\n",
            "326/326 [==============================] - ETA: 0s - loss: 0.1058 - accuracy: 0.9691\n",
            "Epoch 00002: val_loss improved from 0.20579 to 0.14319, saving model to best_model_class.hdf5\n",
            "326/326 [==============================] - 143s 439ms/step - loss: 0.1058 - accuracy: 0.9691 - val_loss: 0.1432 - val_accuracy: 1.0000\n",
            "Epoch 3/10\n",
            "326/326 [==============================] - ETA: 0s - loss: 0.1135 - accuracy: 0.9643\n",
            "Epoch 00003: val_loss improved from 0.14319 to 0.14316, saving model to best_model_class.hdf5\n",
            "326/326 [==============================] - 143s 438ms/step - loss: 0.1135 - accuracy: 0.9643 - val_loss: 0.1432 - val_accuracy: 1.0000\n",
            "Epoch 4/10\n",
            "326/326 [==============================] - ETA: 0s - loss: 0.0986 - accuracy: 0.9726\n",
            "Epoch 00004: val_loss did not improve from 0.14316\n",
            "326/326 [==============================] - 142s 436ms/step - loss: 0.0986 - accuracy: 0.9726 - val_loss: 0.1693 - val_accuracy: 0.9375\n",
            "Epoch 5/10\n",
            "326/326 [==============================] - ETA: 0s - loss: 0.0876 - accuracy: 0.9747\n",
            "Epoch 00005: val_loss did not improve from 0.14316\n",
            "326/326 [==============================] - 142s 435ms/step - loss: 0.0876 - accuracy: 0.9747 - val_loss: 0.1575 - val_accuracy: 1.0000\n",
            "Epoch 6/10\n",
            "326/326 [==============================] - ETA: 0s - loss: 0.0910 - accuracy: 0.9737\n",
            "Epoch 00006: val_loss did not improve from 0.14316\n",
            "326/326 [==============================] - 142s 434ms/step - loss: 0.0910 - accuracy: 0.9737 - val_loss: 0.1639 - val_accuracy: 1.0000\n",
            "Epoch 7/10\n",
            "326/326 [==============================] - ETA: 0s - loss: 0.0831 - accuracy: 0.9793\n",
            "Epoch 00007: val_loss improved from 0.14316 to 0.10748, saving model to best_model_class.hdf5\n",
            "326/326 [==============================] - 142s 437ms/step - loss: 0.0831 - accuracy: 0.9793 - val_loss: 0.1075 - val_accuracy: 1.0000\n",
            "Epoch 8/10\n",
            "326/326 [==============================] - ETA: 0s - loss: 0.0831 - accuracy: 0.9766\n",
            "Epoch 00008: val_loss did not improve from 0.10748\n",
            "326/326 [==============================] - 142s 436ms/step - loss: 0.0831 - accuracy: 0.9766 - val_loss: 0.1404 - val_accuracy: 0.9375\n",
            "Epoch 9/10\n",
            "326/326 [==============================] - ETA: 0s - loss: 0.0729 - accuracy: 0.9787\n",
            "Epoch 00009: val_loss did not improve from 0.10748\n",
            "326/326 [==============================] - 142s 436ms/step - loss: 0.0729 - accuracy: 0.9787 - val_loss: 0.1153 - val_accuracy: 1.0000\n",
            "Epoch 10/10\n",
            "326/326 [==============================] - ETA: 0s - loss: 0.0734 - accuracy: 0.9824\n",
            "Epoch 00010: val_loss did not improve from 0.10748\n",
            "326/326 [==============================] - 142s 434ms/step - loss: 0.0734 - accuracy: 0.9824 - val_loss: 0.1186 - val_accuracy: 1.0000\n"
          ],
          "name": "stdout"
        }
      ]
    },
    {
      "cell_type": "code",
      "metadata": {
        "colab": {
          "base_uri": "https://localhost:8080/",
          "height": 573
        },
        "id": "Nz7sHGoB3n-L",
        "outputId": "8554a53f-2921-48f3-c864-774a308fae83"
      },
      "source": [
        "import matplotlib.pyplot as plt\n",
        "def plot_accuracy(history,title):\n",
        "    plt.title(title)\n",
        "    plt.plot(history.history['accuracy'])\n",
        "    plt.plot(history.history['val_accuracy'])\n",
        "    plt.ylabel('accuracy')\n",
        "    plt.xlabel('epoch')\n",
        "    plt.legend(['train_accuracy', 'validation_accuracy'], loc='best')\n",
        "    plt.show()\n",
        "def plot_loss(history,title):\n",
        "    plt.title(title)\n",
        "    plt.plot(history.history['loss'])\n",
        "    plt.plot(history.history['val_loss'])\n",
        "    plt.ylabel('loss')\n",
        "    plt.xlabel('epoch')\n",
        "    plt.legend(['train_loss', 'validation_loss'], loc='best')\n",
        "    plt.show()\n",
        "\n",
        "\n",
        "plot_accuracy(history,'pneumonia_acc')\n",
        "plot_loss(history,'pneumonia_loss') "
      ],
      "execution_count": null,
      "outputs": [
        {
          "output_type": "display_data",
          "data": {
            "image/png": "[encoded data removed]",
            "text/plain": [
              "<Figure size 432x288 with 1 Axes>"
            ]
          },
          "metadata": {
            "tags": [],
            "needs_background": "light"
          }
        },
        {
          "output_type": "display_data",
          "data": {
            "image/png": "[encoded data removed]",
            "text/plain": [
              "<Figure size 432x288 with 1 Axes>"
            ]
          },
          "metadata": {
            "tags": [],
            "needs_background": "light"
          }
        }
      ]
    }
  ]
}